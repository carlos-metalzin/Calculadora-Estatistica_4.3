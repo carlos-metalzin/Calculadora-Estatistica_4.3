{
 "cells": [
  {
   "cell_type": "markdown",
   "metadata": {},
   "source": [
    "# Calculadora Estatística \n",
    "###### v: 4.3\n",
    "Programa desenvolvido para utilização na analíse de dados dentro do Laboratório de Física I e para introdução a linguagem de programação, podendo ter outras utilidades.<br>\n",
    " **Autor**: Carlos Augusto  Rodrigues de Oliveira <br>**Orientadoras:** Mariana Pojar & Eliane de Fátima Chinaglia\n",
    " ## Contato\n",
    "\n",
    "Caso queira enviar sugestões ou reportar algum problema entre em contato em: \n",
    "\n",
    "* Email: uniecaoliveira@fei.edu.br\n",
    "* GitHub: [carlos-metalzin](https://github.com/carlos-metalzin)\n",
    "* Redes sociais:  \n",
    "    - __[Twitter](https://twitter.com/gustc_carlos)__\n",
    "    - __[Instagram](https://www.instagram.com/gustc_carlos/)__\n",
    "    \n",
    "## Instruções\n",
    "Algumas instruções para utilizar o programa corretamente: \n",
    "1. Para utilizar as linhas de codigo selecione-a e utilize o comando \"run\" no canto superior da sua pagina ou pressionando a tecla f5 \n",
    "2. Lembre-se sempre de deixar o arquivo de dados junto com o arquivo do programa (na mesma pasta)\n",
    "3. Para mais instruções acesse: __[Tutorial](https://github.com/carlos-metalzin/Calculadora-Estatistica_4.3)__"
   ]
  },
  {
   "attachments": {},
   "cell_type": "markdown",
   "metadata": {},
   "source": [
    "# Hello World \n",
    "##  Importando as bibliotecas utilizadas\n",
    "Para otimizar o código utilizamos bibliotecas externas com funcionalides diversas, para consulta-las acesse: \n",
    "- statistics: https://docs.python.org/3.9/library/statistics.html\n",
    "- Pandas: https://pandas.pydata.org/\n",
    "- Numpy: https://numpy.org/\n",
    "- Matplotlib: https://matplotlib.org/\n",
    "- Plotly: https://plotly.com/python/"
   ]
  },
  {
   "cell_type": "code",
   "execution_count": 2,
   "metadata": {},
   "outputs": [
    {
     "name": "stdout",
     "output_type": "stream",
     "text": [
      "Requirement already satisfied: plotly in c:\\users\\carlo\\anaconda3\\lib\\site-packages (5.5.0)\n",
      "Requirement already satisfied: tenacity>=6.2.0 in c:\\users\\carlo\\anaconda3\\lib\\site-packages (from plotly) (8.0.1)\n",
      "Requirement already satisfied: six in c:\\users\\carlo\\anaconda3\\lib\\site-packages (from plotly) (1.16.0)\n"
     ]
    }
   ],
   "source": [
    "import numpy as np\n",
    "import statistics as st\n",
    "import pandas as pd\n",
    "import matplotlib.pyplot as plt \n",
    "!pip install plotly\n",
    "import plotly.express as px\n",
    "%matplotlib inline "
   ]
  },
  {
   "cell_type": "markdown",
   "metadata": {},
   "source": [
    "## Criando as funções\n",
    "Neste momento vamos trabalhar com o funcionamento do programa."
   ]
  },
  {
   "cell_type": "markdown",
   "metadata": {},
   "source": [
    "### Leitura do arquivo de dados\n",
    "Caso queira analisar um arquivo de dados é necessário utilizar essa função. <br>Para isso lembre-se de deixar seu arquivo na mesma pasta do programa e insira o nome do arquivo (indicando a extensão) entre aspas no campo indicado. "
   ]
  },
  {
   "cell_type": "code",
   "execution_count": null,
   "metadata": {},
   "outputs": [],
   "source": [
    "def read():\n",
    "    valores = []\n",
    "    arquivo_de_dados = pd.read_csv('Coloque o nome do seu arquivo aqui.csv', sep=';') # colocar o endereço do seu arquivo aqui (com a extensão)\n",
    "    for y in arquivo_de_dados:\n",
    "        try:\n",
    "            y = str(y).replace(',', '.')\n",
    "            float(y)\n",
    "        except:\n",
    "            print()\n",
    "        else:\n",
    "            valores.append(float(y))\n",
    "        for x in arquivo_de_dados[y]:\n",
    "            try:\n",
    "                x = str(x).replace(',', '.')\n",
    "                float(x)\n",
    "            except:\n",
    "                print('O dado a seguir estava no seu arquivo de dados e foi ignorado por não ser um valor: ')\n",
    "                print(x, ' = ', type(x))\n",
    "                print('-' * 30)\n",
    "            else:\n",
    "                valores.append(float(x))\n",
    "    return valores\n",
    "dados = read()\n",
    "dados"
   ]
  },
  {
   "cell_type": "markdown",
   "metadata": {},
   "source": [
    "### Analise preliminar\n",
    "Nesta primeirta etapa vamos obter dados basicos do seu arquivo de dados. É importante que confira as informações referentes aos seus dados para não ocarrer interpretações equivocadas!"
   ]
  },
  {
   "cell_type": "code",
   "execution_count": null,
   "metadata": {},
   "outputs": [],
   "source": [
    "print(f'Número de elementos: {len(dados)}\\nMaior valor: {max(dados)}\\nMenor valor: {min(dados)}')"
   ]
  },
  {
   "cell_type": "markdown",
   "metadata": {},
   "source": [
    "### Média aritmética $ \\overline{x} $\n",
    "### $$ \\overline{x} = \\frac{\\sum_{i=1}^{n}x_{i}}{n} \\\\ $$\n",
    "Estima a centralidade do nosso conjunto de dados, podendo representar uma boa estimativa entre o conjunto de valores que nem sempre é confiável."
   ]
  },
  {
   "cell_type": "code",
   "execution_count": null,
   "metadata": {},
   "outputs": [],
   "source": [
    "media = round(st.mean(dados),2) #Escolha o número de casas decimais exibidas aqui\n",
    "print(f'Média aritmética simples: {media}')"
   ]
  },
  {
   "cell_type": "markdown",
   "metadata": {},
   "source": [
    "### Desvio Padrão $ \\sigma $ \n",
    "### $$ \\sigma = \\sqrt{\\frac{\\Sigma (x_{i}-\\overline{x})^2}{n-1}}  $$\n",
    "Expressa a dispersão dos conjunto de dados, ou seja, a partir do **desvio padrão** é possivel avaliar a confiança do seu aquivo de dados. Quanto maior o desvio, menor é a confiança no conjunto de dados. "
   ]
  },
  {
   "cell_type": "code",
   "execution_count": null,
   "metadata": {},
   "outputs": [],
   "source": [
    "desvio = round(st.stdev(dados),3) #Escolha o número de casas decimais exibidas aqui\n",
    "print(f'Desvio Padrão: {desvio}')"
   ]
  },
  {
   "cell_type": "markdown",
   "metadata": {},
   "source": [
    "### Incerteza estatistica ou Desvio padrão da média $ \\sigma_{e} $\n",
    "### $$ \\sigma_{e} = \\frac{\\sigma}{\\sqrt{n}} $$\n",
    "Utilizado para avaliar a propragação dos erros nas medidas. "
   ]
  },
  {
   "cell_type": "code",
   "execution_count": null,
   "metadata": {},
   "outputs": [],
   "source": [
    "IE = st.stdev(dados) / (len(dados) ** (1 / 2))\n",
    "IEA = round(IE,2) #Escolha o número de casas decimais exibidas aqui\n",
    "print(f'Incerteza estatística: {IEA}')"
   ]
  },
  {
   "cell_type": "markdown",
   "metadata": {},
   "source": [
    "### Incerteza Residual $ \\sigma_{r} $\n",
    "### $$ \\sigma_{r} = \\frac{resolução}{2} $$\n",
    "**Resoulução**: Menor divisão que um instrumento pode representar.<br>\n",
    "A _Incerteza Residual_ avalia os erros em relação ao instrumento utilizado. \n",
    "**Caso não possua resolução insira 0(zero). \n",
    "### Incerteza Padrão ou Desvio final da média\n",
    "### $$ \\sigma_{p} = \\sqrt{\\sigma_{e}^2 + \\sigma_{r}^2} $$\n",
    "Obtido propagando as incertezas. "
   ]
  },
  {
   "cell_type": "code",
   "execution_count": null,
   "metadata": {},
   "outputs": [],
   "source": [
    "r = float(input('Resolução do instrumento: '))\n",
    "IE = st.stdev(dados) / (len(dados) ** (1 / 2))\n",
    "IP = (IE ** 2 + (r/2) ** 2) ** (1 / 2)\n",
    "IPA = round(IP,2) #Escolha o número de casas decimais exibidas aqui\n",
    "print(f'Incerteza Padrão: {IPA}')"
   ]
  },
  {
   "cell_type": "markdown",
   "metadata": {},
   "source": [
    "## Gráficos \n",
    "Com python é possível fazer plotagens simples e complexas com seu arquivo de dados, utilizamos alguns exemplos aqui, experimente mudar dados do código e observe como pode manipular o gráfico para melhores interpretações. \n",
    "### Histograma \n",
    "O histograma é um gráfico de barras que indentifica a frequência de valores num conjunto de dados. Utilizado para demonstrar dispersão.<br>\n",
    "Nesta linha utilizamos o Plotly, uma biblioteca que cria gráficos inteirativos para contribuir com a experiência do usúario. Passe o mouse em cima do seu gráfico para ter detalhes visuais. <br> \n",
    "Entre os comandos dísponiveis você pode:\n",
    "- Dar zoom \n",
    "- Mover o gráfico \n",
    "- Baixa-lo em um arquivo png \n",
    "- etc. \n"
   ]
  },
  {
   "cell_type": "code",
   "execution_count": null,
   "metadata": {},
   "outputs": [],
   "source": [
    "df = pd.DataFrame(dados)\n",
    "fig = px.histogram(dados, nbins = 30,title='Histograma', text_auto= True )\n",
    "fig.show()"
   ]
  },
  {
   "cell_type": "markdown",
   "metadata": {},
   "source": [
    "### Box plot\n",
    "O Box Plot é um gráfico alternativo ao histograma com a finalidade de indicar característica estatísticas de maneira visual e intuitiva, como indicando a dispersão do seu conjunto de dados. Por ser gráfico pouco visto, abaixo foi colocado um exemplo com breve legenda.\n",
    "#### _Exemplo:_ \n",
    "![boxplot](https://www.alura.com.br/artigos/assets/boxplot/imagem-2.png)\n",
    "#### Legenda:\n",
    "* Mediana: valor que expressa o valor do meio no seu conjunto de dados.  \n",
    "* Quartil inferior ou Primeiro quartil: o quartil que representa os **25% menores** valores em relação a mediana\n",
    "* Quartil superrio ou Terceiro quartil: o quartil que representa os **25% maiores** valores em relação a mediana  \n",
    "* Discrepantes ou Outliers: valores discrepantes no arquivo de dados.\n",
    "* Limites: construídos a partir do intervalo interquartilíco <br>\n",
    "Obs: É recomendado que o usúario pesquise e entenda o funcionamento do gráfico BoxPlot para uma melhor interpretação."
   ]
  },
  {
   "cell_type": "markdown",
   "metadata": {},
   "source": [
    "### Com Plotly\n",
    "Aqui seu arquivo de dados será plotado em um boxplot utilizando a biblioteca do Plotly. Este gráfico apresenta as mesmas funcionalidades que o histograma, experimente!"
   ]
  },
  {
   "cell_type": "code",
   "execution_count": null,
   "metadata": {},
   "outputs": [],
   "source": [
    "df = pd.DataFrame(dados)\n",
    "fig = px.box(df,title = 'BoxPlot', orientation= 'h')\n",
    "fig.show()"
   ]
  }
 ],
 "metadata": {
  "kernelspec": {
   "display_name": "Python 3 (ipykernel)",
   "language": "python",
   "name": "python3"
  },
  "language_info": {
   "codemirror_mode": {
    "name": "ipython",
    "version": 3
   },
   "file_extension": ".py",
   "mimetype": "text/x-python",
   "name": "python",
   "nbconvert_exporter": "python",
   "pygments_lexer": "ipython3",
   "version": "3.9.7"
  }
 },
 "nbformat": 4,
 "nbformat_minor": 4
}
