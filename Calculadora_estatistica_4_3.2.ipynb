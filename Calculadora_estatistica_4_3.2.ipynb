{
  "cells": [
    {
      "cell_type": "markdown",
      "metadata": {
        "id": "tyd_Xv7Y2XBh"
      },
      "source": [
        "# Calculadora Estatística \n",
        "###### v: 4.3\n",
        "Programa desenvolvido para utilização na analíse de dados dentro do Laboratório de Física I e para introdução a linguagem de programação, podendo ter outras utilidades.<br>\n",
        " **Autor**: Carlos Augusto  Rodrigues de Oliveira <br>**Orientadoras:** Mariana Pojar & Eliane de Fátima Chinaglia\n",
        " ## Contato\n",
        "\n",
        "Caso queira enviar sugestões ou reportar algum problema entre em contato em: \n",
        "\n",
        "* Email: uniecaoliveira@fei.edu.br\n",
        "* GitHub: [carlos-metalzin](https://github.com/carlos-metalzin)\n",
        "* Redes sociais:  \n",
        "    - __[Twitter](https://twitter.com/gustc_carlos)__\n",
        "    - __[Instagram](https://www.instagram.com/gustc_carlos/)__\n",
        "    \n",
        "## Instruções\n",
        "Algumas instruções para utilizar o programa corretamente: \n",
        "1. Para utilizar as linhas de codigo selecione-a e utilize o comando \"run\" no canto superior da sua pagina ou pressionando a tecla f5 \n",
        "2. Lembre-se sempre de deixar o arquivo de dados junto com o arquivo do programa (na mesma pasta)\n",
        "3. Para mais instruções acesse: __[Tutorial](https://github.com/carlos-metalzin/Calculadora-Estatistica_4.3)__"
      ]
    },
    {
      "cell_type": "markdown",
      "metadata": {
        "id": "U8AXJ2JQ2XBm"
      },
      "source": [
        "# Hello World \n",
        "##  Importando as bibliotecas utilizadas\n",
        "Para otimizar o código utilizamos bibliotecas externas com funcionalides diversas, para consulta-las acesse: \n",
        "- statistics: https://docs.python.org/3.9/library/statistics.html\n",
        "- Pandas: https://pandas.pydata.org/\n",
        "- Numpy: https://numpy.org/\n",
        "- Matplotlib: https://matplotlib.org/\n",
        "- Plotly: https://plotly.com/python/"
      ]
    },
    {
      "cell_type": "code",
      "execution_count": 1,
      "metadata": {
        "colab": {
          "base_uri": "https://localhost:8080/"
        },
        "id": "ePpbxn0-2XBn",
        "outputId": "d92c7299-5ae8-4f72-e41d-d6a2c4815a6c"
      },
      "outputs": [
        {
          "output_type": "stream",
          "name": "stdout",
          "text": [
            "Requirement already satisfied: plotly in /usr/local/lib/python3.7/dist-packages (5.5.0)\n",
            "Requirement already satisfied: six in /usr/local/lib/python3.7/dist-packages (from plotly) (1.15.0)\n",
            "Requirement already satisfied: tenacity>=6.2.0 in /usr/local/lib/python3.7/dist-packages (from plotly) (8.0.1)\n"
          ]
        }
      ],
      "source": [
        "import numpy as np\n",
        "import statistics as st\n",
        "import pandas as pd\n",
        "import matplotlib.pyplot as plt \n",
        "!pip install plotly\n",
        "import plotly.express as px\n",
        "%matplotlib inline "
      ]
    },
    {
      "cell_type": "markdown",
      "metadata": {
        "id": "zriwqcrK2XBq"
      },
      "source": [
        "## Criando as funções\n",
        "Neste momento vamos trabalhar com o funcionamento do programa."
      ]
    },
    {
      "cell_type": "markdown",
      "metadata": {
        "id": "1GXVuOXG2XBq"
      },
      "source": [
        "### Leitura do arquivo de dados\n",
        "Caso queira analisar um arquivo de dados é necessário utilizar essa função. <br>Para isso lembre-se de deixar seu arquivo na mesma pasta do programa e insira o nome do arquivo (indicando a extensão) entre aspas no campo indicado. "
      ]
    },
    {
      "cell_type": "code",
      "execution_count": 2,
      "metadata": {
        "colab": {
          "base_uri": "https://localhost:8080/"
        },
        "id": "ntcP_spX2XBr",
        "outputId": "c0deed80-3d36-4cfc-e2d7-07605bdb2560"
      },
      "outputs": [
        {
          "output_type": "stream",
          "name": "stdout",
          "text": [
            "\n",
            "O dado a seguir estava no seu arquivo de dados e foi ignorado por não ser um valor: \n",
            "a  =  <class 'str'>\n",
            "------------------------------\n"
          ]
        },
        {
          "output_type": "execute_result",
          "data": {
            "text/plain": [
              "[7.112926825,\n",
              " 7.775837425,\n",
              " 13.40733748,\n",
              " 7.861622386,\n",
              " 10.94952799,\n",
              " 13.66702393,\n",
              " 8.934669739,\n",
              " 7.765315955,\n",
              " 12.51392249,\n",
              " 19.41998518,\n",
              " 12.07234059,\n",
              " 9.465408064,\n",
              " 11.92808836,\n",
              " 9.746934976,\n",
              " 8.892716307,\n",
              " 9.701006254,\n",
              " 10.81614742,\n",
              " 15.40393194,\n",
              " 11.55944117,\n",
              " 11.936721,\n",
              " 14.43275027,\n",
              " 15.63342776,\n",
              " 12.37482834,\n",
              " 8.009704111,\n",
              " 6.465852016,\n",
              " 10.7747578,\n",
              " 10.81735355,\n",
              " 15.58462419,\n",
              " 12.00896607,\n",
              " 13.72468543,\n",
              " 10.58184905,\n",
              " 12.72827473,\n",
              " 10.26491758,\n",
              " 6.952895634,\n",
              " 7.942183653,\n",
              " 10.97545939,\n",
              " 11.86265774,\n",
              " 10.34744885,\n",
              " 27.9262602,\n",
              " 11.43449947,\n",
              " 20.1753163,\n",
              " 20.72267747,\n",
              " 28.17071167,\n",
              " 9.900811826,\n",
              " 11.39358558,\n",
              " 15.56644939,\n",
              " 10.14623384,\n",
              " 11.70926671,\n",
              " 11.58016736,\n",
              " 13.75953163,\n",
              " 13.47413532,\n",
              " 12.13636868,\n",
              " 11.32062508,\n",
              " 12.07366283,\n",
              " 11.7763267,\n",
              " 10.54060712,\n",
              " 11.98731509,\n",
              " 12.67495883,\n",
              " 9.823829033,\n",
              " 8.044953566,\n",
              " 12.29783355,\n",
              " 11.70493942,\n",
              " 18.39615374,\n",
              " 15.65105731,\n",
              " 5.304171995]"
            ]
          },
          "metadata": {},
          "execution_count": 2
        }
      ],
      "source": [
        "def read():\n",
        "    valores = []\n",
        "    arquivo_de_dados = pd.read_csv('Coloque o nome do seu arquivo aqui.csv', sep=';') # colocar o endereço do seu arquivo aqui (com a extensão)\n",
        "    for y in arquivo_de_dados:\n",
        "        try:\n",
        "            y = str(y).replace(',', '.')\n",
        "            float(y)\n",
        "        except:\n",
        "            print()\n",
        "        else:\n",
        "            valores.append(float(y))\n",
        "        for x in arquivo_de_dados[y]:\n",
        "            try:\n",
        "                x = str(x).replace(',', '.')\n",
        "                float(x)\n",
        "            except:\n",
        "                print('O dado a seguir estava no seu arquivo de dados e foi ignorado por não ser um valor: ')\n",
        "                print(x, ' = ', type(x))\n",
        "                print('-' * 30)\n",
        "            else:\n",
        "                valores.append(float(x))\n",
        "    return valores\n",
        "dados = read()\n",
        "dados"
      ]
    },
    {
      "cell_type": "markdown",
      "metadata": {
        "id": "vMgxF2gF2XBs"
      },
      "source": [
        "### Analise preliminar\n",
        "Nesta primeirta etapa vamos obter dados basicos do seu arquivo de dados. É importante que confira as informações referentes aos seus dados para não ocarrer interpretações equivocadas!"
      ]
    },
    {
      "cell_type": "code",
      "execution_count": 3,
      "metadata": {
        "colab": {
          "base_uri": "https://localhost:8080/"
        },
        "id": "OS-XwbIl2XBs",
        "outputId": "8d60b837-e4ce-4fda-9eb1-6ea88cf3a09f"
      },
      "outputs": [
        {
          "output_type": "stream",
          "name": "stdout",
          "text": [
            "Número de elementos: 65\n",
            "Maior valor: 28.17071167\n",
            "Menor valor: 5.304171995\n"
          ]
        }
      ],
      "source": [
        "print(f'Número de elementos: {len(dados)}\\nMaior valor: {max(dados)}\\nMenor valor: {min(dados)}')"
      ]
    },
    {
      "cell_type": "markdown",
      "metadata": {
        "id": "8VB2rv_M2XBt"
      },
      "source": [
        "### Média aritmética $ \\overline{x} $\n",
        "### $$ \\overline{x} = \\frac{\\sum_{i=1}^{n}x_{i}}{n} \\\\ $$\n",
        "Estima a centralidade do nosso conjunto de dados, podendo representar uma boa estimativa entre o conjunto de valores que nem sempre é confiável."
      ]
    },
    {
      "cell_type": "code",
      "execution_count": 4,
      "metadata": {
        "colab": {
          "base_uri": "https://localhost:8080/"
        },
        "id": "N8nkEF0G2XBu",
        "outputId": "ad3dda41-ee40-4631-9bee-0d3e9cdc7cfe"
      },
      "outputs": [
        {
          "output_type": "stream",
          "name": "stdout",
          "text": [
            "Média aritmética simples: 12.19\n"
          ]
        }
      ],
      "source": [
        "media = round(st.mean(dados),2) #Escolha o número de casas decimais exibidas aqui\n",
        "print(f'Média aritmética simples: {media}')"
      ]
    },
    {
      "cell_type": "markdown",
      "metadata": {
        "id": "b7YIT_dF2XBu"
      },
      "source": [
        "### Desvio Padrão $ \\sigma $ \n",
        "### $$ \\sigma = \\sqrt{\\frac{\\Sigma (x_{i}-\\overline{x})^2}{n-1}}  $$\n",
        "Expressa a dispersão dos conjunto de dados, ou seja, a partir do **desvio padrão** é possivel avaliar a confiança do seu aquivo de dados. Quanto maior o desvio, menor é a confiança no conjunto de dados. "
      ]
    },
    {
      "cell_type": "code",
      "execution_count": 5,
      "metadata": {
        "colab": {
          "base_uri": "https://localhost:8080/"
        },
        "id": "QWCG4g7W2XBv",
        "outputId": "e29b467d-9c44-4344-a751-67e44c65646c"
      },
      "outputs": [
        {
          "output_type": "stream",
          "name": "stdout",
          "text": [
            "Desvio Padrão: 4.199\n"
          ]
        }
      ],
      "source": [
        "desvio = round(st.stdev(dados),3) #Escolha o número de casas decimais exibidas aqui\n",
        "print(f'Desvio Padrão: {desvio}')"
      ]
    },
    {
      "cell_type": "markdown",
      "metadata": {
        "id": "HhNcYArT2XBv"
      },
      "source": [
        "### Incerteza estatistica ou Desvio padrão da média $ \\sigma_{e} $\n",
        "### $$ \\sigma_{e} = \\frac{\\sigma}{\\sqrt{n}} $$\n",
        "Utilizado para avaliar a propragação dos erros nas medidas. "
      ]
    },
    {
      "cell_type": "code",
      "execution_count": 6,
      "metadata": {
        "colab": {
          "base_uri": "https://localhost:8080/"
        },
        "id": "W6RGkrkZ2XBv",
        "outputId": "53dd4652-2749-4112-ba28-08932b279205"
      },
      "outputs": [
        {
          "output_type": "stream",
          "name": "stdout",
          "text": [
            "Incerteza estatística: 0.52\n"
          ]
        }
      ],
      "source": [
        "IE = st.stdev(dados) / (len(dados) ** (1 / 2))\n",
        "IEA = round(IE,2) #Escolha o número de casas decimais exibidas aqui\n",
        "print(f'Incerteza estatística: {IEA}')"
      ]
    },
    {
      "cell_type": "markdown",
      "metadata": {
        "id": "6arZ5lDG2XBw"
      },
      "source": [
        "### Incerteza Residual $ \\sigma_{r} $\n",
        "### $$ \\sigma_{r} = \\frac{resolução}{2} $$\n",
        "**Resoulução**: Menor divisão que um instrumento pode representar.<br>\n",
        "A _Incerteza Residual_ avalia os erros em relação ao instrumento utilizado. \n",
        "**Caso não possua resolução insira 0(zero). \n",
        "### Incerteza Padrão ou Desvio final da média\n",
        "### $$ \\sigma_{p} = \\sqrt{\\sigma_{e}^2 + \\sigma_{r}^2} $$\n",
        "Obtido propagando as incertezas. "
      ]
    },
    {
      "cell_type": "code",
      "execution_count": 7,
      "metadata": {
        "colab": {
          "base_uri": "https://localhost:8080/"
        },
        "id": "c-xUNnOC2XBw",
        "outputId": "9ba13da3-0b27-48d0-f7c6-ff2e970dea43"
      },
      "outputs": [
        {
          "output_type": "stream",
          "name": "stdout",
          "text": [
            "Resolução do instrumento: 0\n",
            "Incerteza Padrão: 0.52\n"
          ]
        }
      ],
      "source": [
        "r = float(input('Resolução do instrumento: '))\n",
        "IE = st.stdev(dados) / (len(dados) ** (1 / 2))\n",
        "IP = (IE ** 2 + (r/2) ** 2) ** (1 / 2)\n",
        "IPA = round(IP,2) #Escolha o número de casas decimais exibidas aqui\n",
        "print(f'Incerteza Padrão: {IPA}')"
      ]
    },
    {
      "cell_type": "markdown",
      "metadata": {
        "id": "Zr4LuxxZ2XBw"
      },
      "source": [
        "## Gráficos \n",
        "Com python é possível fazer plotagens simples e complexas com seu arquivo de dados, utilizamos alguns exemplos aqui, experimente mudar dados do código e observe como pode manipular o gráfico para melhores interpretações. \n",
        "### Histograma \n",
        "O histograma é um gráfico de barras que indentifica a frequência de valores num conjunto de dados. Utilizado para demonstrar dispersão.<br>\n",
        "Nesta linha utilizamos o Plotly, uma biblioteca que cria gráficos inteirativos para contribuir com a experiência do usúario. Passe o mouse em cima do seu gráfico para ter detalhes visuais. <br> \n",
        "Entre os comandos dísponiveis você pode:\n",
        "- Dar zoom \n",
        "- Mover o gráfico \n",
        "- Baixa-lo em um arquivo png \n",
        "- etc. \n"
      ]
    },
    {
      "cell_type": "code",
      "execution_count": 8,
      "metadata": {
        "colab": {
          "base_uri": "https://localhost:8080/",
          "height": 542
        },
        "id": "22xEyqru2XBx",
        "outputId": "a5ea302b-649d-4285-e3af-811bd5815be2"
      },
      "outputs": [
        {
          "output_type": "display_data",
          "data": {
            "text/html": [
              "<html>\n",
              "<head><meta charset=\"utf-8\" /></head>\n",
              "<body>\n",
              "    <div>            <script src=\"https://cdnjs.cloudflare.com/ajax/libs/mathjax/2.7.5/MathJax.js?config=TeX-AMS-MML_SVG\"></script><script type=\"text/javascript\">if (window.MathJax) {MathJax.Hub.Config({SVG: {font: \"STIX-Web\"}});}</script>                <script type=\"text/javascript\">window.PlotlyConfig = {MathJaxConfig: 'local'};</script>\n",
              "        <script src=\"https://cdn.plot.ly/plotly-2.8.3.min.js\"></script>                <div id=\"3b783fa0-7042-4ff5-a475-3b0d0437ee84\" class=\"plotly-graph-div\" style=\"height:525px; width:100%;\"></div>            <script type=\"text/javascript\">                                    window.PLOTLYENV=window.PLOTLYENV || {};                                    if (document.getElementById(\"3b783fa0-7042-4ff5-a475-3b0d0437ee84\")) {                    Plotly.newPlot(                        \"3b783fa0-7042-4ff5-a475-3b0d0437ee84\",                        [{\"alignmentgroup\":\"True\",\"bingroup\":\"x\",\"hovertemplate\":\"variable=0<br>value=%{x}<br>count=%{y}<extra></extra>\",\"legendgroup\":\"0\",\"marker\":{\"color\":\"#636efa\",\"pattern\":{\"shape\":\"\"},\"line\":{\"color\":\"black\",\"width\":1}},\"name\":\"0\",\"nbinsx\":30,\"offsetgroup\":\"0\",\"orientation\":\"v\",\"showlegend\":true,\"texttemplate\":\"%{value}\",\"x\":[7.112926825,7.775837425,13.40733748,7.861622386,10.94952799,13.66702393,8.934669739,7.765315955,12.51392249,19.41998518,12.07234059,9.465408064,11.92808836,9.746934976,8.892716307,9.701006254,10.81614742,15.40393194,11.55944117,11.936721,14.43275027,15.63342776,12.37482834,8.009704111,6.465852016,10.7747578,10.81735355,15.58462419,12.00896607,13.72468543,10.58184905,12.72827473,10.26491758,6.952895634,7.942183653,10.97545939,11.86265774,10.34744885,27.9262602,11.43449947,20.1753163,20.72267747,28.17071167,9.900811826,11.39358558,15.56644939,10.14623384,11.70926671,11.58016736,13.75953163,13.47413532,12.13636868,11.32062508,12.07366283,11.7763267,10.54060712,11.98731509,12.67495883,9.823829033,8.044953566,12.29783355,11.70493942,18.39615374,15.65105731,5.304171995],\"xaxis\":\"x\",\"yaxis\":\"y\",\"type\":\"histogram\"}],                        {\"template\":{\"data\":{\"bar\":[{\"error_x\":{\"color\":\"#2a3f5f\"},\"error_y\":{\"color\":\"#2a3f5f\"},\"marker\":{\"line\":{\"color\":\"#E5ECF6\",\"width\":0.5},\"pattern\":{\"fillmode\":\"overlay\",\"size\":10,\"solidity\":0.2}},\"type\":\"bar\"}],\"barpolar\":[{\"marker\":{\"line\":{\"color\":\"#E5ECF6\",\"width\":0.5},\"pattern\":{\"fillmode\":\"overlay\",\"size\":10,\"solidity\":0.2}},\"type\":\"barpolar\"}],\"carpet\":[{\"aaxis\":{\"endlinecolor\":\"#2a3f5f\",\"gridcolor\":\"white\",\"linecolor\":\"white\",\"minorgridcolor\":\"white\",\"startlinecolor\":\"#2a3f5f\"},\"baxis\":{\"endlinecolor\":\"#2a3f5f\",\"gridcolor\":\"white\",\"linecolor\":\"white\",\"minorgridcolor\":\"white\",\"startlinecolor\":\"#2a3f5f\"},\"type\":\"carpet\"}],\"choropleth\":[{\"colorbar\":{\"outlinewidth\":0,\"ticks\":\"\"},\"type\":\"choropleth\"}],\"contour\":[{\"colorbar\":{\"outlinewidth\":0,\"ticks\":\"\"},\"colorscale\":[[0.0,\"#0d0887\"],[0.1111111111111111,\"#46039f\"],[0.2222222222222222,\"#7201a8\"],[0.3333333333333333,\"#9c179e\"],[0.4444444444444444,\"#bd3786\"],[0.5555555555555556,\"#d8576b\"],[0.6666666666666666,\"#ed7953\"],[0.7777777777777778,\"#fb9f3a\"],[0.8888888888888888,\"#fdca26\"],[1.0,\"#f0f921\"]],\"type\":\"contour\"}],\"contourcarpet\":[{\"colorbar\":{\"outlinewidth\":0,\"ticks\":\"\"},\"type\":\"contourcarpet\"}],\"heatmap\":[{\"colorbar\":{\"outlinewidth\":0,\"ticks\":\"\"},\"colorscale\":[[0.0,\"#0d0887\"],[0.1111111111111111,\"#46039f\"],[0.2222222222222222,\"#7201a8\"],[0.3333333333333333,\"#9c179e\"],[0.4444444444444444,\"#bd3786\"],[0.5555555555555556,\"#d8576b\"],[0.6666666666666666,\"#ed7953\"],[0.7777777777777778,\"#fb9f3a\"],[0.8888888888888888,\"#fdca26\"],[1.0,\"#f0f921\"]],\"type\":\"heatmap\"}],\"heatmapgl\":[{\"colorbar\":{\"outlinewidth\":0,\"ticks\":\"\"},\"colorscale\":[[0.0,\"#0d0887\"],[0.1111111111111111,\"#46039f\"],[0.2222222222222222,\"#7201a8\"],[0.3333333333333333,\"#9c179e\"],[0.4444444444444444,\"#bd3786\"],[0.5555555555555556,\"#d8576b\"],[0.6666666666666666,\"#ed7953\"],[0.7777777777777778,\"#fb9f3a\"],[0.8888888888888888,\"#fdca26\"],[1.0,\"#f0f921\"]],\"type\":\"heatmapgl\"}],\"histogram\":[{\"marker\":{\"pattern\":{\"fillmode\":\"overlay\",\"size\":10,\"solidity\":0.2}},\"type\":\"histogram\"}],\"histogram2d\":[{\"colorbar\":{\"outlinewidth\":0,\"ticks\":\"\"},\"colorscale\":[[0.0,\"#0d0887\"],[0.1111111111111111,\"#46039f\"],[0.2222222222222222,\"#7201a8\"],[0.3333333333333333,\"#9c179e\"],[0.4444444444444444,\"#bd3786\"],[0.5555555555555556,\"#d8576b\"],[0.6666666666666666,\"#ed7953\"],[0.7777777777777778,\"#fb9f3a\"],[0.8888888888888888,\"#fdca26\"],[1.0,\"#f0f921\"]],\"type\":\"histogram2d\"}],\"histogram2dcontour\":[{\"colorbar\":{\"outlinewidth\":0,\"ticks\":\"\"},\"colorscale\":[[0.0,\"#0d0887\"],[0.1111111111111111,\"#46039f\"],[0.2222222222222222,\"#7201a8\"],[0.3333333333333333,\"#9c179e\"],[0.4444444444444444,\"#bd3786\"],[0.5555555555555556,\"#d8576b\"],[0.6666666666666666,\"#ed7953\"],[0.7777777777777778,\"#fb9f3a\"],[0.8888888888888888,\"#fdca26\"],[1.0,\"#f0f921\"]],\"type\":\"histogram2dcontour\"}],\"mesh3d\":[{\"colorbar\":{\"outlinewidth\":0,\"ticks\":\"\"},\"type\":\"mesh3d\"}],\"parcoords\":[{\"line\":{\"colorbar\":{\"outlinewidth\":0,\"ticks\":\"\"}},\"type\":\"parcoords\"}],\"pie\":[{\"automargin\":true,\"type\":\"pie\"}],\"scatter\":[{\"marker\":{\"colorbar\":{\"outlinewidth\":0,\"ticks\":\"\"}},\"type\":\"scatter\"}],\"scatter3d\":[{\"line\":{\"colorbar\":{\"outlinewidth\":0,\"ticks\":\"\"}},\"marker\":{\"colorbar\":{\"outlinewidth\":0,\"ticks\":\"\"}},\"type\":\"scatter3d\"}],\"scattercarpet\":[{\"marker\":{\"colorbar\":{\"outlinewidth\":0,\"ticks\":\"\"}},\"type\":\"scattercarpet\"}],\"scattergeo\":[{\"marker\":{\"colorbar\":{\"outlinewidth\":0,\"ticks\":\"\"}},\"type\":\"scattergeo\"}],\"scattergl\":[{\"marker\":{\"colorbar\":{\"outlinewidth\":0,\"ticks\":\"\"}},\"type\":\"scattergl\"}],\"scattermapbox\":[{\"marker\":{\"colorbar\":{\"outlinewidth\":0,\"ticks\":\"\"}},\"type\":\"scattermapbox\"}],\"scatterpolar\":[{\"marker\":{\"colorbar\":{\"outlinewidth\":0,\"ticks\":\"\"}},\"type\":\"scatterpolar\"}],\"scatterpolargl\":[{\"marker\":{\"colorbar\":{\"outlinewidth\":0,\"ticks\":\"\"}},\"type\":\"scatterpolargl\"}],\"scatterternary\":[{\"marker\":{\"colorbar\":{\"outlinewidth\":0,\"ticks\":\"\"}},\"type\":\"scatterternary\"}],\"surface\":[{\"colorbar\":{\"outlinewidth\":0,\"ticks\":\"\"},\"colorscale\":[[0.0,\"#0d0887\"],[0.1111111111111111,\"#46039f\"],[0.2222222222222222,\"#7201a8\"],[0.3333333333333333,\"#9c179e\"],[0.4444444444444444,\"#bd3786\"],[0.5555555555555556,\"#d8576b\"],[0.6666666666666666,\"#ed7953\"],[0.7777777777777778,\"#fb9f3a\"],[0.8888888888888888,\"#fdca26\"],[1.0,\"#f0f921\"]],\"type\":\"surface\"}],\"table\":[{\"cells\":{\"fill\":{\"color\":\"#EBF0F8\"},\"line\":{\"color\":\"white\"}},\"header\":{\"fill\":{\"color\":\"#C8D4E3\"},\"line\":{\"color\":\"white\"}},\"type\":\"table\"}]},\"layout\":{\"annotationdefaults\":{\"arrowcolor\":\"#2a3f5f\",\"arrowhead\":0,\"arrowwidth\":1},\"autotypenumbers\":\"strict\",\"coloraxis\":{\"colorbar\":{\"outlinewidth\":0,\"ticks\":\"\"}},\"colorscale\":{\"diverging\":[[0,\"#8e0152\"],[0.1,\"#c51b7d\"],[0.2,\"#de77ae\"],[0.3,\"#f1b6da\"],[0.4,\"#fde0ef\"],[0.5,\"#f7f7f7\"],[0.6,\"#e6f5d0\"],[0.7,\"#b8e186\"],[0.8,\"#7fbc41\"],[0.9,\"#4d9221\"],[1,\"#276419\"]],\"sequential\":[[0.0,\"#0d0887\"],[0.1111111111111111,\"#46039f\"],[0.2222222222222222,\"#7201a8\"],[0.3333333333333333,\"#9c179e\"],[0.4444444444444444,\"#bd3786\"],[0.5555555555555556,\"#d8576b\"],[0.6666666666666666,\"#ed7953\"],[0.7777777777777778,\"#fb9f3a\"],[0.8888888888888888,\"#fdca26\"],[1.0,\"#f0f921\"]],\"sequentialminus\":[[0.0,\"#0d0887\"],[0.1111111111111111,\"#46039f\"],[0.2222222222222222,\"#7201a8\"],[0.3333333333333333,\"#9c179e\"],[0.4444444444444444,\"#bd3786\"],[0.5555555555555556,\"#d8576b\"],[0.6666666666666666,\"#ed7953\"],[0.7777777777777778,\"#fb9f3a\"],[0.8888888888888888,\"#fdca26\"],[1.0,\"#f0f921\"]]},\"colorway\":[\"#636efa\",\"#EF553B\",\"#00cc96\",\"#ab63fa\",\"#FFA15A\",\"#19d3f3\",\"#FF6692\",\"#B6E880\",\"#FF97FF\",\"#FECB52\"],\"font\":{\"color\":\"#2a3f5f\"},\"geo\":{\"bgcolor\":\"white\",\"lakecolor\":\"white\",\"landcolor\":\"#E5ECF6\",\"showlakes\":true,\"showland\":true,\"subunitcolor\":\"white\"},\"hoverlabel\":{\"align\":\"left\"},\"hovermode\":\"closest\",\"mapbox\":{\"style\":\"light\"},\"paper_bgcolor\":\"white\",\"plot_bgcolor\":\"#E5ECF6\",\"polar\":{\"angularaxis\":{\"gridcolor\":\"white\",\"linecolor\":\"white\",\"ticks\":\"\"},\"bgcolor\":\"#E5ECF6\",\"radialaxis\":{\"gridcolor\":\"white\",\"linecolor\":\"white\",\"ticks\":\"\"}},\"scene\":{\"xaxis\":{\"backgroundcolor\":\"#E5ECF6\",\"gridcolor\":\"white\",\"gridwidth\":2,\"linecolor\":\"white\",\"showbackground\":true,\"ticks\":\"\",\"zerolinecolor\":\"white\"},\"yaxis\":{\"backgroundcolor\":\"#E5ECF6\",\"gridcolor\":\"white\",\"gridwidth\":2,\"linecolor\":\"white\",\"showbackground\":true,\"ticks\":\"\",\"zerolinecolor\":\"white\"},\"zaxis\":{\"backgroundcolor\":\"#E5ECF6\",\"gridcolor\":\"white\",\"gridwidth\":2,\"linecolor\":\"white\",\"showbackground\":true,\"ticks\":\"\",\"zerolinecolor\":\"white\"}},\"shapedefaults\":{\"line\":{\"color\":\"#2a3f5f\"}},\"ternary\":{\"aaxis\":{\"gridcolor\":\"white\",\"linecolor\":\"white\",\"ticks\":\"\"},\"baxis\":{\"gridcolor\":\"white\",\"linecolor\":\"white\",\"ticks\":\"\"},\"bgcolor\":\"#E5ECF6\",\"caxis\":{\"gridcolor\":\"white\",\"linecolor\":\"white\",\"ticks\":\"\"}},\"title\":{\"x\":0.05},\"xaxis\":{\"automargin\":true,\"gridcolor\":\"white\",\"linecolor\":\"white\",\"ticks\":\"\",\"title\":{\"standoff\":15},\"zerolinecolor\":\"white\",\"zerolinewidth\":2},\"yaxis\":{\"automargin\":true,\"gridcolor\":\"white\",\"linecolor\":\"white\",\"ticks\":\"\",\"title\":{\"standoff\":15},\"zerolinecolor\":\"white\",\"zerolinewidth\":2}}},\"xaxis\":{\"anchor\":\"y\",\"domain\":[0.0,1.0],\"title\":{\"text\":\"value\"}},\"yaxis\":{\"anchor\":\"x\",\"domain\":[0.0,1.0],\"title\":{\"text\":\"count\"}},\"legend\":{\"title\":{\"text\":\"variable\"},\"tracegroupgap\":0},\"title\":{\"text\":\"Histograma\"},\"barmode\":\"relative\"},                        {\"responsive\": true}                    ).then(function(){\n",
              "                            \n",
              "var gd = document.getElementById('3b783fa0-7042-4ff5-a475-3b0d0437ee84');\n",
              "var x = new MutationObserver(function (mutations, observer) {{\n",
              "        var display = window.getComputedStyle(gd).display;\n",
              "        if (!display || display === 'none') {{\n",
              "            console.log([gd, 'removed!']);\n",
              "            Plotly.purge(gd);\n",
              "            observer.disconnect();\n",
              "        }}\n",
              "}});\n",
              "\n",
              "// Listen for the removal of the full notebook cells\n",
              "var notebookContainer = gd.closest('#notebook-container');\n",
              "if (notebookContainer) {{\n",
              "    x.observe(notebookContainer, {childList: true});\n",
              "}}\n",
              "\n",
              "// Listen for the clearing of the current output cell\n",
              "var outputEl = gd.closest('.output');\n",
              "if (outputEl) {{\n",
              "    x.observe(outputEl, {childList: true});\n",
              "}}\n",
              "\n",
              "                        })                };                            </script>        </div>\n",
              "</body>\n",
              "</html>"
            ]
          },
          "metadata": {}
        }
      ],
      "source": [
        "df = pd.DataFrame(dados)\n",
        "fig = px.histogram(dados, nbins = 30,title='Histograma', text_auto= True )\n",
        "fig.update_traces(marker_line_width=1, marker_line_color=\"black\")\n",
        "fig.show()"
      ]
    },
    {
      "cell_type": "markdown",
      "metadata": {
        "id": "7iyKf4w12XBx"
      },
      "source": [
        "### Box plot\n",
        "O Box Plot é um gráfico alternativo ao histograma com a finalidade de indicar característica estatísticas de maneira visual e intuitiva, como indicando a dispersão do seu conjunto de dados. Por ser gráfico pouco visto, abaixo foi colocado um exemplo com breve legenda.\n",
        "#### _Exemplo:_ \n",
        "![boxplot](https://www.alura.com.br/artigos/assets/boxplot/imagem-2.png)\n",
        "#### Legenda:\n",
        "* Mediana: valor que expressa o valor do meio no seu conjunto de dados.  \n",
        "* Quartil inferior ou Primeiro quartil: o quartil que representa os **25% menores** valores em relação a mediana\n",
        "* Quartil superrio ou Terceiro quartil: o quartil que representa os **25% maiores** valores em relação a mediana  \n",
        "* Discrepantes ou Outliers: valores discrepantes no arquivo de dados.\n",
        "* Limites: construídos a partir do intervalo interquartilíco <br>\n",
        "Obs: É recomendado que o usúario pesquise e entenda o funcionamento do gráfico BoxPlot para uma melhor interpretação."
      ]
    },
    {
      "cell_type": "markdown",
      "metadata": {
        "id": "voD1ETdC2XBy"
      },
      "source": [
        "### Com Plotly\n",
        "Aqui seu arquivo de dados será plotado em um boxplot utilizando a biblioteca do Plotly. Este gráfico apresenta as mesmas funcionalidades que o histograma, experimente!"
      ]
    },
    {
      "cell_type": "code",
      "execution_count": null,
      "metadata": {
        "id": "jho_-rDg2XBy"
      },
      "outputs": [],
      "source": [
        "df = pd.DataFrame(dados)\n",
        "fig = px.box(df,title = 'BoxPlot', orientation= 'h')\n",
        "fig.show()"
      ]
    }
  ],
  "metadata": {
    "kernelspec": {
      "display_name": "Python 3 (ipykernel)",
      "language": "python",
      "name": "python3"
    },
    "language_info": {
      "codemirror_mode": {
        "name": "ipython",
        "version": 3
      },
      "file_extension": ".py",
      "mimetype": "text/x-python",
      "name": "python",
      "nbconvert_exporter": "python",
      "pygments_lexer": "ipython3",
      "version": "3.9.7"
    },
    "colab": {
      "name": "Calculadora_estatistica_4.3.ipynb",
      "provenance": []
    }
  },
  "nbformat": 4,
  "nbformat_minor": 0
}